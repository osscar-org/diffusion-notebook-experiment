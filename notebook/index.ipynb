{
 "cells": [
  {
   "attachments": {},
   "cell_type": "markdown",
   "metadata": {
    "tags": []
   },
   "source": [
    "# **Experimenting with OSSCAR: effectiveness of learning**\n",
    "\n",
    "<hr style=\"height:1px;border:none;color:#cccccc;background-color:#cccccc;\" />"
   ]
  },
  {
   "attachments": {},
   "cell_type": "markdown",
   "metadata": {},
   "source": [
    "Go to the notebook on [Random Diffusion in 2D](diffusion_2d.ipynb)"
   ]
  },
  {
   "cell_type": "code",
   "execution_count": null,
   "metadata": {},
   "outputs": [],
   "source": []
  }
 ],
 "metadata": {
  "kernelspec": {
   "display_name": "generic",
   "language": "python",
   "name": "python3"
  },
  "language_info": {
   "codemirror_mode": {
    "name": "ipython",
    "version": 3
   },
   "file_extension": ".py",
   "mimetype": "text/x-python",
   "name": "python",
   "nbconvert_exporter": "python",
   "pygments_lexer": "ipython3",
   "version": "3.8.11 (default, Jun 29 2021, 03:08:07) \n[Clang 12.0.5 (clang-1205.0.22.9)]"
  },
  "vscode": {
   "interpreter": {
    "hash": "da71daf810f7834c84ca9381d19e3c3539ad4eec87cbcc923fcc5d886a327a80"
   }
  }
 },
 "nbformat": 4,
 "nbformat_minor": 4
}
