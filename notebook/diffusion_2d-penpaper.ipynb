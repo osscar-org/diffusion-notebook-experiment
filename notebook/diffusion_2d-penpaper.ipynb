{
 "cells": [
  {
   "cell_type": "markdown",
   "metadata": {
    "user_expressions": []
   },
   "source": [
    "# **Understanding random diffusion in 2D**\n",
    "\n",
    "<hr style=\"height:1px;border:none;color:#cccccc;background-color:#cccccc;\" />\n",
    "\n",
    "This webpage will teach you about the physical process of diffusion. You will work on four questions. \n",
    "\n",
    "Importantly, **please write down your answers to each of the questions on a piece of paper.**   You will be asked to upload a photograph of your answers later. Once you are done answering the questions, you can close this tab to return to the survey."
   ]
  },
  {
   "cell_type": "markdown",
   "metadata": {
    "user_expressions": []
   },
   "source": [
    "## **Introduction**\n",
    "\n",
    "A concrete example of diffusion is opening a bottle of perfume in a room. Right after opening the bottle, the room will not smell very different. However, after a longer period of time, the room will smell like the perfume. This is because the perfume molecules diffuse throughout the room by experiencing random collisions with air molecules.\n",
    "\n",
    "For simplification, let's neglect the room walls and assume that the molecules are free to move beyond the room area (they do not bounce on the walls).\n",
    "\n",
    "\n",
    "## **Tasks**\n",
    "\n",
    "Answer the following questions. **Please write down your answers on a piece of paper!** You will be asked to upload a photograph of your answers later.\n",
    "\n",
    "1. **What qualitative shape do you expect for the statistical distribution of perfume molecules?** (E.g. number of peaks, narrow vs. broad distribution, symmetric vs. asymmetric, ...)? **How do you expect that it evolves over time?**<br><br>\n",
    "\n",
    "1. Over time, the entire room begins to smell of perfume. **How can this be explained in terms of the movement of individual molecules and the overall distribution of the perfume molecules? Describe the movement of individual molecules and how they contribute to the overall distribution of the perfume molecules.**<br><br>\n",
    "\n",
    "1. Below is a table showing the mean squared displacement of the molecules as a function of time for a given diffusion coefficient. **Plot a graph showing the relationship between time and the mean squared displacement $r^2_{std}$**. **Suggest a formula for the dependence of $r_{std}$ on time. Is the rate of change of $r_{std}$ (i.e., the speed at which the distribution of molecules expands) constant?**<br>\n",
    "\n",
    "| Time step     | $r^2_{std}$ |\n",
    "| -------- | ------- |\n",
    "| 0    | 0.00    |\n",
    "| 1000 | 5.20     |\n",
    "| 2000 | 10.25    |\n",
    "| 3000 | 14.68    |\n",
    "| 4000 | 19.48    |\n",
    "| 4999 | 23.87    |\n",
    "\n",
    "<br>\n",
    "\n",
    "4. An external vertical force is applied to the molecules in the room, as showed by the red arrows on the figure below. **Draw two sketches: a) the distribution (cloud of points) of the molecules *before the force is applied* and b) the expected distribution of the molecules after a certain period due to the influence of both diffusion and the external force.**\n",
    "\n",
    "<img src=\"force.png\" alt=\"force\" style=\"margin-left: auto; margin-right: auto;\"/>\n",
    "\n",
    "**Once you have written your answers on a piece of paper, please return to the survey by closing this tab.**"
   ]
  }
 ],
 "metadata": {
  "kernelspec": {
   "display_name": "Python3",
   "language": "python",
   "name": "python3"
  },
  "language_info": {
   "codemirror_mode": {
    "name": "ipython",
    "version": 3
   },
   "file_extension": ".py",
   "mimetype": "text/x-python",
   "name": "python",
   "nbconvert_exporter": "python",
   "pygments_lexer": "ipython3",
   "version": "3.11.5"
  },
  "voila": {
   "authors": ""
  },
  "vscode": {
   "interpreter": {
    "hash": "da71daf810f7834c84ca9381d19e3c3539ad4eec87cbcc923fcc5d886a327a80"
   }
  }
 },
 "nbformat": 4,
 "nbformat_minor": 4
}
