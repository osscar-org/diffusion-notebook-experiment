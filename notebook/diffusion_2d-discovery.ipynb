{
 "cells": [
  {
   "cell_type": "markdown",
   "metadata": {
    "user_expressions": []
   },
   "source": [
    "# **Random diffusion in 2D**\n",
    "\n",
    "<hr style=\"height:1px;border:none;color:#cccccc;background-color:#cccccc;\" />\n"
   ]
  },
  {
   "cell_type": "markdown",
   "metadata": {
    "user_expressions": []
   },
   "source": [
    "## **Instructions**: \n",
    "\n",
    "Explore the simulation below about the diffusion phenomena.\n",
    "\n",
    "**Once you are done exploring the simulation, please return to the survey by closing this tab.**"
   ]
  },
  {
   "cell_type": "markdown",
   "metadata": {
    "user_expressions": []
   },
   "source": [
    "<hr style=\"height:1px;border:none;color:#cccccc;background-color:#cccccc;\" />\n",
    "\n",
    "## **Interactive visualization**\n",
    "If you don't see anything here, **please be patient!** The interactive visualization is loading.  \n",
    "In case of issue, you can try to reload the page.\n",
    "\n",
    "Once the simulation is loaded, here is how you can use it:\n",
    "1. Select the simulation parameters\n",
    "2. **Press the \"Compute\" button**\n",
    "3. **Then use the play/pause/stop buttons** to visualize the simulation results\n",
    "(an explanation of the plots is available in the \"Legend\" section below the visualization).\n"
   ]
  },
  {
   "cell_type": "code",
   "execution_count": null,
   "metadata": {
    "tags": []
   },
   "outputs": [],
   "source": [
    "from diffusion_module import show_diffusion\n",
    "show_diffusion()"
   ]
  },
  {
   "cell_type": "markdown",
   "metadata": {
    "user_expressions": []
   },
   "source": [
    "<hr style=\"height:1px;border:none;color:#cccccc;background-color:#cccccc;\" />\n",
    "\n",
    "## **Legend of the interactive figures**\n",
    "\n",
    "- *Top-left*: diffusion of $N$ points in 2D. The green circle (displayed only if $p_x = \\frac 1 2$) has radius $r_{std}$ proportional to the standard deviation of the distance of all points from the starting location at $t=0$.\n",
    "\n",
    "- *Top-right plot*: 1D histogram of the position of the points projected along the $x$ direction (summing on all points along the $y$ direction). The expected distribution is also displayed in red (only if  $p_x = \\frac 1 2$).\n",
    "\n",
    "- *Bottom-right plot* (shown only when $p_x = \\frac 1 2$) : dependency of $r_{std}^2$ as a function of the time step $t$. The data points are shown every 500 steps, with the current step displayed as a large green point."
   ]
  }
 ],
 "metadata": {
  "kernelspec": {
   "display_name": "Python3",
   "language": "python",
   "name": "python3"
  },
  "language_info": {
   "codemirror_mode": {
    "name": "ipython",
    "version": 3
   },
   "file_extension": ".py",
   "mimetype": "text/x-python",
   "name": "python",
   "nbconvert_exporter": "python",
   "pygments_lexer": "ipython3",
   "version": "3.11.5"
  },
  "voila": {
   "authors": ""
  },
  "vscode": {
   "interpreter": {
    "hash": "da71daf810f7834c84ca9381d19e3c3539ad4eec87cbcc923fcc5d886a327a80"
   }
  }
 },
 "nbformat": 4,
 "nbformat_minor": 4
}
