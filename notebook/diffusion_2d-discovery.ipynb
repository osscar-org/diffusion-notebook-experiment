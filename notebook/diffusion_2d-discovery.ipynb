{
 "cells": [
  {
   "cell_type": "markdown",
   "metadata": {
    "user_expressions": []
   },
   "source": [
    "# **Understanding random diffusion in 2D**\n",
    "\n",
    "<hr style=\"height:1px;border:none;color:#cccccc;background-color:#cccccc;\" />\n",
    "\n",
    "This webpage will teach you about the physical process of diffusion. "
   ]
  },
  {
   "cell_type": "markdown",
   "metadata": {
    "user_expressions": []
   },
   "source": [
    "## **Introduction**\n",
    "\n",
    "A concrete example of diffusion is opening a bottle of perfume in a room. Right after opening the bottle, the room will not smell very different. However, after a longer period of time, the room will smell like the perfume. This is because the perfume molecules diffuse throughout the room by experiencing random collisions with air molecules.\n",
    "\n",
    "This webpage will help you understand:\n",
    "* the microscopic random diffusion process (looking at it in two dimensions): how do individual molecules (more generally \"particles\") move?\n",
    "* the connection between microscopic kinetics and macroscopic observables: how does the density of particles evolve over time?\n",
    "* how to extract diffusion coefficients from the simulation of an ensemble of particles: how fast does the scent reach the other side of the room?\n",
    "\n",
    "## **Simulation method**\n",
    "Below you will find an interactive visualization, representing $N$ points moving in two dimensions (2D).\n",
    "All points start from the center ($x=0, y=0$). \n",
    "At each timestep, each point moves along $x$ of an amount $l$ (called \"step size\") either to the right (with probability $p_x$) or to the left (with probability $1-p_x$). At the same time, the point moves also along $y$ of an amount $l$ either up (with probability $p_y$) or down (with probability $1-p_y$).\n",
    "\n",
    "The particles in the simulation are free to move beyond the visualized region.\n",
    "\n",
    "In the simulation, you can change the number of particles $N$, the step size $l$, and the probability $p_x$ (while the probability $p_y$ is fixed at $p_y=\\frac 1 2$).\n",
    "You can also decide the total number of steps in the simulation.\n",
    "\n",
    "## **Instructions**: \n",
    "\n",
    "Explore the simulation below to check your understanding of the diffusion phenomena.\n",
    "\n",
    "**Once you are done exploring the simulation, please return to the survey by closing this tab.**"
   ]
  },
  {
   "cell_type": "markdown",
   "metadata": {
    "user_expressions": []
   },
   "source": [
    "<hr style=\"height:1px;border:none;color:#cccccc;background-color:#cccccc;\" />\n",
    "\n",
    "## **Interactive visualization**\n",
    "If you don't see anything here, **please be patient!** The interactive visualization is loading.  \n",
    "In case of issue, you can try to reload the page.\n",
    "\n",
    "Once the simulation is loaded, here is how you can use it:\n",
    "1. Select the simulation parameters\n",
    "2. **Press the \"Compute\" button**\n",
    "3. **Then use the play/pause/stop buttons** to visualize the simulation results\n",
    "(an explanation of the plots is available in the \"Legend\" section below the visualization).\n"
   ]
  },
  {
   "cell_type": "code",
   "execution_count": null,
   "metadata": {
    "tags": []
   },
   "outputs": [],
   "source": [
    "from diffusion_module import show_diffusion\n",
    "show_diffusion()"
   ]
  },
  {
   "cell_type": "markdown",
   "metadata": {
    "user_expressions": []
   },
   "source": [
    "<hr style=\"height:1px;border:none;color:#cccccc;background-color:#cccccc;\" />\n",
    "\n",
    "## **Legend of the interactive figures**\n",
    "\n",
    "- *Top-left*: diffusion of $N$ points in 2D. The green circle (displayed only if $p_x = \\frac 1 2$) has radius $r_{std}$ proportional to the standard deviation of the distance of all points from the starting location at $t=0$.\n",
    "\n",
    "- *Top-right plot*: 1D histogram of the position of the points projected along the $x$ direction (summing on all points along the $y$ direction). The expected distribution is also displayed in red (only if  $p_x = \\frac 1 2$).\n",
    "\n",
    "- *Bottom-right plot* (shown only when $p_x = \\frac 1 2$) : dependency of $r_{std}^2$ as a function of the time step $t$. The data points are shown every 500 steps, with the current step displayed as a large green point."
   ]
  }
 ],
 "metadata": {
  "kernelspec": {
   "display_name": "Python3",
   "language": "python",
   "name": "python3"
  },
  "language_info": {
   "codemirror_mode": {
    "name": "ipython",
    "version": 3
   },
   "file_extension": ".py",
   "mimetype": "text/x-python",
   "name": "python",
   "nbconvert_exporter": "python",
   "pygments_lexer": "ipython3",
   "version": "3.11.5"
  },
  "voila": {
   "authors": ""
  },
  "vscode": {
   "interpreter": {
    "hash": "da71daf810f7834c84ca9381d19e3c3539ad4eec87cbcc923fcc5d886a327a80"
   }
  }
 },
 "nbformat": 4,
 "nbformat_minor": 4
}
