{
 "cells": [
  {
   "cell_type": "markdown",
   "metadata": {},
   "source": [
    "# **Understanding random diffusion in 2D**\n",
    "\n",
    "<hr style=\"height:1px;border:none;color:#cccccc;background-color:#cccccc;\" />"
   ]
  },
  {
   "cell_type": "markdown",
   "metadata": {},
   "source": [
    "## **Introduction**\n",
    "\n",
    "This webpage will teach you about the physical process of diffusion. You will work on four questions with the help of an interactive simulation. Importantly, **please write down your answers to each of the questions on a piece of paper.** You will be asked to upload a photograph of your answers later. Once you are done answering the questions, you can close this tab to return to the survey.\n",
    "\n",
    "A concrete example of diffusion is opening a bottle of perfume in a room. Right after opening the bottle, the room will not smell very different. However, after a longer period of time, the room will smell like the perfume. This is because the perfume molecules diffuse throughout the room by experiencing random collisions with air molecules.\n",
    "\n",
    "This webpage will help you understand:\n",
    "* the microscopic random diffusion process (looking at it in two dimensions): how do individual molecules (more generally \"particles\") move?\n",
    "* the connection between microscopic kinetics and macroscopic observables: how does the density of particles evolve over time?\n",
    "* how to extract diffusion coefficients from the simulation of an ensemble of particles: how fast does the scent reach the other side of the room?\n",
    "\n",
    "## **Simulation method**\n",
    "Below you will find an interactive visualization, representing $N$ points moving in two dimensions (2D).\n",
    "All points start from the center ($x=0, y=0$). \n",
    "At each timestep, each point moves along $x$ of an amount $l$ (called \"step size\") either to the right (with probability $p_x$) or to the left (with probability $1-p_x$). At the same time, the point moves also along $y$ of an amount $l$ either up (with probability $p_y$) or down (with probability $1-p_y$).\n",
    "\n",
    "The particles in the simulation are free to move beyond the visualized region.\n",
    "\n",
    "In the simulation, you can change the number of particles $N$, the step size $l$, and the probability $p_x$ (while the probability $p_y$ is fixed at $p_y=\\frac 1 2$).\n",
    "You can also decide the total number of steps in the simulation.\n",
    "\n",
    "## **Tasks**\n",
    "\n",
    "Use the simulation below to help you answer the following questions. **Please write down your answers on a piece of paper!** You will be asked to upload a photograph of your answers later.\n",
    "\n",
    "1. **What qualitative shape do you expect for the statistical distribution of points?** (E.g. number of peaks, narrow vs. broad distribution, symmetric vs. asymmetric, ...)? **How do you expect that it evolves over time?** Run the simulation and look at the top-right plot that contains the expected distribution (red curve) and the numerical estimate (blue bars) obtained projecting the motion of the simulated points on the x axis. **Do the plots agree with your expectations?**<br><br>\n",
    "\n",
    "1. Compare the global behavior and the path of an individual point (visible once the corresponding checkbox is activated): **what do you observe?** <br><br>\n",
    "\n",
    "1. Set $p_x$=0.5, 1000 points, a step size of 0.05, and run for 5000 steps. The typical standard deviation $r_{std}$ (defined in the bottom section \"Legend\") can be visually inspected below as a green circle, and helps us understand the typical average \"diffusion speed\" of points. **Suggest a formula for the dependence of $r_{std}$ on time. Is the rate of change of $r_{std}$ (i.e., the speed at which the distribution of particles expands) at the beginning and at the end of the simulation the same?**<br><br>\n",
    "\n",
    "1. Change the value of $p_x$ (note: fewer plots are shown for $p_x\\neq \\frac 1 2$). **How does the motion of the points change? What physical effect are we mimicking?**\n",
    "\n",
    "**Once you have written your answers on a piece of paper, please return to the survey by closing this tab.**"
   ]
  },
  {
   "cell_type": "markdown",
   "metadata": {},
   "source": [
    "<hr style=\"height:1px;border:none;color:#cccccc;background-color:#cccccc;\" />\n",
    "\n",
    "## Interactive visualization\n",
    "If you don't see anything here, **please be patient!** The interactive visualization is loading.\n",
    "\n",
    "Once the simulation is loaded, here is how you can use it:\n",
    "- **Select the simulation parameters**\n",
    "- **Press the \"Simulate\" button**\n",
    "- **Then use the play/pause/stop buttons to visualize the simulation results**\n",
    "(an explanation of the plots is available in the \"Legend\" section below the visualization).\n"
   ]
  },
  {
   "cell_type": "code",
   "execution_count": 1,
   "metadata": {},
   "outputs": [
    {
     "data": {
      "application/vnd.jupyter.widget-view+json": {
       "model_id": "6bca1aef451d403ba7ad9c0fa542967f",
       "version_major": 2,
       "version_minor": 0
      },
      "text/plain": [
       "VBox(children=(HBox(children=(Output(),)), HBox(children=(VBox(children=(IntSlider(value=1000, continuous_upda…"
      ]
     },
     "metadata": {},
     "output_type": "display_data"
    }
   ],
   "source": [
    "from diffusion_module import show_diffusion\n",
    "show_diffusion()"
   ]
  },
  {
   "cell_type": "markdown",
   "metadata": {},
   "source": [
    "<hr style=\"height:1px;border:none;color:#cccccc;background-color:#cccccc;\" />\n",
    "\n",
    "## **Legend**\n",
    "\n",
    "### Interactive Figures\n",
    "- *Top-left*: diffusion of $N$ points in 2D. The green circle (displayed only if $p_x = \\frac 1 2$) has radius $r_{std}$ proportional to the standard deviation of the distance of all points from the starting location at $t=0$: the value at time $t$ is given by $r_{std}^2 (t) = \\sum_{i=1}^N |\\textbf{r}_i(t)|^2 / N$, where $\\textbf{r}_i(t)$ is the position of the $i-$th point at time $t$.\n",
    "\n",
    "- *Top-right plot*: 1D histogram of the position of the points projected along the $x$ direction (summing on all points along the $y$ direction). The expected distribution is also displayed in red.\n",
    "\n",
    "- *Bottom-right plot*: dependency of $r_{std}^2$ as a function of the time step $t$. The data points are shown every 500 steps, with the current step displayed as a large green point."
   ]
  }
 ],
 "metadata": {
  "kernelspec": {
   "display_name": "Python",
   "language": "python",
   "name": "python3"
  },
  "language_info": {
   "codemirror_mode": {
    "name": "ipython",
    "version": 3
   },
   "file_extension": ".py",
   "mimetype": "text/x-python",
   "name": "python",
   "nbconvert_exporter": "python",
   "pygments_lexer": "ipython3",
   "version": "3.8.10"
  },
  "voila": {
   "authors": ""
  },
  "vscode": {
   "interpreter": {
    "hash": "da71daf810f7834c84ca9381d19e3c3539ad4eec87cbcc923fcc5d886a327a80"
   }
  }
 },
 "nbformat": 4,
 "nbformat_minor": 4
}
