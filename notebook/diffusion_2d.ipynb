{
 "cells": [
  {
   "cell_type": "markdown",
   "metadata": {},
   "source": [
    "# **Understanding random diffusion in 2D**\n",
    "\n",
    "<hr style=\"height:1px;border:none;color:#cccccc;background-color:#cccccc;\" />"
   ]
  },
  {
   "cell_type": "markdown",
   "metadata": {},
   "source": [
    "## **Goals**\n",
    "\n",
    "* Understand the random diffusion process inspecting it in two dimensions\n",
    "* Understand the connection between microscopic kinetics and macroscopic observables\n",
    "* Learn how to extract diffusion coefficients from the simulation of an ensemble of particles\n",
    "\n",
    "## **Simulation method**\n",
    "Below you will find an interactive visualization, representing $N$ points moving in two dimensions (2D).\n",
    "All points start from the center ($x=0, y=0$). \n",
    "At each timestep, every point moves along $x$ of an amount $l$ (called \"step size\") either on the right (with probability $p_x$) or on the left (with probability $1-p_x$). At the same time, the point moves also along $y$ of an amount $l$ either up (with probability $p_y$) or down (with probability $1-p_y$).\n",
    "\n",
    "The simulation is performed in a box of finite size.\n",
    "\n",
    "In the simulation, you can change the number of particles $N$, the step size $l$, and the probability $p_x$ (while the probability $p_y$ is fixed at $p_y=\\frac 1 2$).\n",
    "You can also decide the total number of steps in the simulation.\n",
    "\n",
    "## **How to use the visualization**\n",
    "\n",
    "- **Select the simulation parameters**\n",
    "- **Press the \"Simulate\" button**\n",
    "- **Then use the play/pause/stop buttons to visualize the simulation results**\n",
    "(an explanation of the plots is available in the \"Legend\" section below the visualization).\n",
    "\n",
    "## **Tasks**\n",
    "1. **What qualitative shape do you expect for the statistical distribution of points?** (E.g. number of peaks, narrow vs. broad distribution, symmetric vs. asymmetric, ...)? **How do you expect that it evolves over time?** Run the simulation and check if the red analytical curve drawn in the top-right plot (projecting the motion in 1D, on the x axis). **Does it agree with your expectations?**<br><br><br>\n",
    "\n",
    "1. Change the number of points in the simulation (e.g. reduce them). Inspect the top-right panel. **Is the agreement between the histogram and the expected distribution affected? Why?**<br><br><br>\n",
    "\n",
    "1. Compare the global behavior and the path of an individual point (visible once the corresponding checkbox is activated). : **what do you observe?** <br><br><br>\n",
    "\n",
    "1. Follow the path of an individual point for a long time, trying to reach the border of the simulation box. **What does the simulation do when a point reaches the border? Does this affect the realism of the simulation?** <br><br><br>\n",
    "\n",
    "1. Change the value of $p_x$ (note fewer plots are shown for $p_x\\neq \\frac 1 2$). **How does the motion of the points change? What physical effect are we mimicking?**<br><br><br>\n",
    "\n",
    "1. Set $p_x$=0.5, 1000 points, a step size of 0.05, and run for 5000 steps. The typical standard deviation $r_{std}$ (defined in the bottom section \"Legend\") can be visually inspected below as a green circle, and helps us understand the typical average \"diffusion speed\" of points. **With the help of the bottom-right panel, suggest a formula for the dependence of $r_{std}$ on time. Is the rate of change of $r_{std}$ at the beginning and at the end of the simulation the same?**\n"
   ]
  },
  {
   "cell_type": "markdown",
   "metadata": {},
   "source": [
    "<hr style=\"height:1px;border:none;color:#cccccc;background-color:#cccccc;\" />\n",
    "\n",
    "## Interactive visualization\n",
    "Be patient, it might take a few seconds to load!"
   ]
  },
  {
   "cell_type": "code",
   "execution_count": null,
   "metadata": {},
   "outputs": [],
   "source": [
    "%matplotlib widget \n",
    "from diffusion_module import show_diffusion\n",
    "show_diffusion()"
   ]
  },
  {
   "cell_type": "markdown",
   "metadata": {},
   "source": [
    "<hr style=\"height:1px;border:none;color:#cccccc;background-color:#cccccc;\" />\n",
    "\n",
    "## **Legend**\n",
    "\n",
    "### Interactive Figures\n",
    "- The *top-left plot* shows the diffusion of particles in 2D. The green circle has radius $r_{std}$ proportional to the standard deviation of the distance of all particles from the starting point at $t=0$: the value at time $t$ is given by $r_{std}^2 (t) = \\sum_{i=1}^N |\\textbf{r}_i(t)|^2 / N$, where $N$ is the number of particles and $\\textbf{r}_i(t)$ is the position of the $i-$th particle at time $t$.\n",
    "\n",
    "- The *top-right plot* shows the 1D histogram of the position particles along the $x$ direction, summing on all particles along the $y$ direction. The expected analytical distribution is also displayed.\n",
    "\n",
    "- The *bottom-right plot* shows the dependency of $r_{std}^2$ as a function of the time step number $t$. The data points are shown every 500 steps, with the current step displayed in green. The red dashed line is the result of linear regression on the data (\"fit\"). "
   ]
  },
  {
   "cell_type": "code",
   "execution_count": null,
   "metadata": {},
   "outputs": [],
   "source": []
  }
 ],
 "metadata": {
  "kernelspec": {
   "display_name": "Python 3",
   "language": "python",
   "name": "python3"
  },
  "language_info": {
   "codemirror_mode": {
    "name": "ipython",
    "version": 3
   },
   "file_extension": ".py",
   "mimetype": "text/x-python",
   "name": "python",
   "nbconvert_exporter": "python",
   "pygments_lexer": "ipython3",
   "version": "3.8.11"
  },
  "voila": {
   "authors": ""
  },
  "vscode": {
   "interpreter": {
    "hash": "da71daf810f7834c84ca9381d19e3c3539ad4eec87cbcc923fcc5d886a327a80"
   }
  }
 },
 "nbformat": 4,
 "nbformat_minor": 4
}
