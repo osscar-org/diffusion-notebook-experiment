{
 "cells": [
  {
   "cell_type": "markdown",
   "metadata": {},
   "source": [
    "# **Understanding random diffusion in 2D**\n",
    "\n",
    "<hr style=\"height:1px;border:none;color:#cccccc;background-color:#cccccc;\" />"
   ]
  },
  {
   "cell_type": "markdown",
   "metadata": {},
   "source": [
    "## **Goals**\n",
    "\n",
    "\n",
    "* Understand the random diffusion process inspecting it in two dimensions\n",
    "* Understand the connection between microscopic kinetics and macroscopic observables\n",
    "* Learn how to extract diffusion coefficients from the simulation of an ensemble of particles\n",
    "\n",
    "## **Suggested tasks/activities**\n",
    "* After setting the simulation parameters, run a simulation by clicking the \"run\" button, and then play the random walk simulation. **Compare the global behavior and the path of an individual point** (visible once the corresponding checkbox is activated): **what do you observe?**\n",
    "\n",
    "* **What statistical distribution should the diffusion pattern obey?** See if the red analytical curve drawn in the top-right plot (projecting the motion in 1D, on the x axis) agrees with your expectations."
   ]
  },
  {
   "cell_type": "markdown",
   "metadata": {},
   "source": [
    "<hr style=\"height:1px;border:none;color:#cccccc;background-color:#cccccc;\" />\n",
    "\n",
    "## Interactive visualization\n",
    "Be patient, it might take a few seconds to load! Once loaded:\n",
    "- **select the simulation parameters**\n",
    "- **press the \"Simulate\" button**\n",
    "- **then use the play/pause/stop buttons to visualize the simulation results**"
   ]
  },
  {
   "cell_type": "code",
   "execution_count": null,
   "metadata": {},
   "outputs": [],
   "source": [
    "%matplotlib widget \n",
    "from diffusion_module import show_diffusion\n",
    "show_diffusion()"
   ]
  },
  {
   "cell_type": "markdown",
   "metadata": {},
   "source": [
    "<hr style=\"height:1px;border:none;color:#cccccc;background-color:#cccccc;\" />\n",
    "\n",
    "## **Legend**\n",
    "\n",
    "### Interactive Figures\n",
    "- The top-left is the main plot showing directly the Brownian diffusion of free particles in 2D.\n",
    "  - The green circle has radius $r_{std}$ related to the standard deviation of the distance of all particles from the starting point at $t=0$: the value at time $t$ is given by $r_{std}^2 (t) = \\sum_{i=1}^N |\\textbf{r}_i(t)|^2 / N$, where $N$ is the number of particles and $\\textbf{r}_i(t)$ is the vector of the position of the $i-$th particle at time $t$.\n",
    "  - The red circle has radius $r_l$ given by $\\sqrt{2t} l$, where $t$ is the current step number (i.e., the time from the start of the simulation) and $l$ is the step size. \n",
    "  - Using the tick box below the plot, one can also show the trajectory of one of the particles, displaying the position every 100 simulation steps\n",
    "\n",
    "- The top-right plot shows the 1D histogram of the position particles along the x direction, integrating all particles along the y direction. The expected analytical distribution is also displayed.\n",
    "\n",
    "- The bottom-right plot shows the dependency of $r_{std}^2$ as a function of the time step number $t$. The data points are shown every 500 steps, with the current step displayed in green. The red dashed line is the result of linear regression on the data (\"fit\"). \n",
    "\n",
    "\n",
    "### Controls\n",
    "The panel in the lower left corner controls all 3 plots. The top three sliders set, respectively, the number of points, the step size and the total number of steps for the diffusion simulation. Choose the value as you wish and then click \"Run\" to run the simulation in the background. To visualize the results, use the play button next to it. Note that all 3 plots are synced with the time step.\n",
    "\n",
    "The bottom three widgets control the visualization. The time step slider allows to quickly jump to a specific step of the simulation."
   ]
  },
  {
   "cell_type": "code",
   "execution_count": null,
   "metadata": {},
   "outputs": [],
   "source": []
  }
 ],
 "metadata": {
  "kernelspec": {
   "display_name": "Python",
   "language": "python",
   "name": "python3"
  },
  "language_info": {
   "codemirror_mode": {
    "name": "ipython",
    "version": 3
   },
   "file_extension": ".py",
   "mimetype": "text/x-python",
   "name": "python",
   "nbconvert_exporter": "python",
   "pygments_lexer": "ipython3",
   "version": "3.8.10"
  },
  "voila": {
   "authors": ""
  },
  "vscode": {
   "interpreter": {
    "hash": "da71daf810f7834c84ca9381d19e3c3539ad4eec87cbcc923fcc5d886a327a80"
   }
  }
 },
 "nbformat": 4,
 "nbformat_minor": 4
}
