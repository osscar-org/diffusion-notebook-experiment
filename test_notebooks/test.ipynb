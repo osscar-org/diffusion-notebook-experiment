{
 "cells": [
  {
   "cell_type": "code",
   "execution_count": 2,
   "metadata": {},
   "outputs": [
    {
     "name": "stderr",
     "output_type": "stream",
     "text": [
      "<ipython-input-2-f10e448dcda6>:3: DeprecationWarning: The 'warn' function is deprecated, use 'warning' instead\n",
      "  logging.warn('test here 1')\n",
      "WARNING:root:test here 1\n",
      "<ipython-input-2-f10e448dcda6>:29: DeprecationWarning: The 'warn' function is deprecated, use 'warning' instead\n",
      "  logging.warn('test here 2')\n",
      "WARNING:root:test here 2\n"
     ]
    },
    {
     "name": "stdout",
     "output_type": "stream",
     "text": [
      "preheat_mode='False'\n",
      "ws_url='ws://127.0.0.1:443/voila/query/None'\n",
      "None\n"
     ]
    }
   ],
   "source": [
    "import os\n",
    "import logging\n",
    "logging.warn('test here 1')\n",
    "from voila.utils import wait_for_request, ENV_VARIABLE\n",
    "\n",
    "os.environ[ENV_VARIABLE.VOILA_APP_PORT] = '443'\n",
    "\n",
    "wait_for_request()\n",
    "\n",
    "preheat_mode = os.getenv(ENV_VARIABLE.VOILA_PREHEAT, 'False')\n",
    "print(f'{preheat_mode=}')\n",
    "\n",
    "protocol = os.getenv(ENV_VARIABLE.VOILA_WS_PROTOCOL, 'ws')\n",
    "server_ip = os.getenv(ENV_VARIABLE.VOILA_APP_IP, '127.0.0.1')\n",
    "server_port = os.getenv(ENV_VARIABLE.VOILA_APP_PORT, '8866')\n",
    "server_url = os.getenv(ENV_VARIABLE.VOILA_SERVER_URL, '/')\n",
    "# Use `VOILA_SERVER_URL` if `VOILA_WS_BASE_URL` not specified.\n",
    "ws_base_url = os.getenv(ENV_VARIABLE.VOILA_WS_BASE_URL, server_url)\n",
    "url = f'{protocol}://{server_ip}:{server_port}{ws_base_url}voila/query'\n",
    "\n",
    "kernel_id = os.getenv(ENV_VARIABLE.VOILA_KERNEL_ID)\n",
    "ws_url = f'{url}/{kernel_id}'\n",
    "\n",
    "print(f'{ws_url=}')\n",
    "\n",
    "query_string = os.getenv('QUERY_STRING')\n",
    "print(query_string)\n",
    "\n",
    "logging.warn('test here 2')"
   ]
  },
  {
   "cell_type": "code",
   "execution_count": null,
   "metadata": {},
   "outputs": [],
   "source": [
    "print(os.environ)"
   ]
  },
  {
   "cell_type": "code",
   "execution_count": null,
   "metadata": {},
   "outputs": [],
   "source": [
    "logging.warn('test here 3')"
   ]
  }
 ],
 "metadata": {
  "kernelspec": {
   "display_name": "Python 3",
   "language": "python",
   "name": "python3"
  },
  "language_info": {
   "codemirror_mode": {
    "name": "ipython",
    "version": 3
   },
   "file_extension": ".py",
   "mimetype": "text/x-python",
   "name": "python",
   "nbconvert_exporter": "python",
   "pygments_lexer": "ipython3",
   "version": "3.8.11"
  },
  "voila": {
   "authors": ""
  },
  "vscode": {
   "interpreter": {
    "hash": "da71daf810f7834c84ca9381d19e3c3539ad4eec87cbcc923fcc5d886a327a80"
   }
  }
 },
 "nbformat": 4,
 "nbformat_minor": 4
}
